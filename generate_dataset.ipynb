{
 "cells": [
  {
   "cell_type": "code",
   "execution_count": 2,
   "metadata": {},
   "outputs": [],
   "source": [
    "# Custom Imports\n",
    "from CircuitCollection import CircuitCollection as cc\n",
    "\n",
    "# Qiskit Imports\n",
    "from qiskit import *\n",
    "from qiskit.transpiler import CouplingMap\n",
    "from qiskit.tools.jupyter import *\n",
    "from qiskit.visualization import *\n",
    "\n",
    "# Other Imports\n",
    "import itertools\n",
    "import time\n",
    "import pickle\n",
    "import pandas as pd\n",
    "import numpy as np"
   ]
  },
  {
   "cell_type": "markdown",
   "metadata": {},
   "source": [
    "## Data Representation\n",
    "Other works (like [this](https://iopscience.iop.org/article/10.1088/2632-2153/ac28dd)) use an \"image\" based representation. I will use a similar one.\n",
    "* each gate will be one column of \"pixels\"\n",
    "* 1 indicates that the corresponding qubit is involved with the gate, 0 means that there are no gates on that qubit           "
   ]
  },
  {
   "cell_type": "markdown",
   "metadata": {},
   "source": [
    "#### Creating Circuit Collection"
   ]
  },
  {
   "cell_type": "code",
   "execution_count": 2,
   "metadata": {},
   "outputs": [
    {
     "name": "stdout",
     "output_type": "stream",
     "text": [
      "--- Generate: 0.00013518333435058594 seconds ---\n",
      "--- Build: 0.17211389541625977 seconds ---\n",
      "--- Transpile (Trial 1): 8.470448017120361 seconds ---\n",
      "--- Transpile (Trial 2): 16.82211208343506 seconds ---\n",
      "--- Transpile (Trial 3): 25.13805603981018 seconds ---\n",
      "--- Transpile (Trial 4): 33.96016216278076 seconds ---\n",
      "--- Transpile (Trial 5): 42.633220195770264 seconds ---\n",
      "--- Transpile (Trial 6): 51.22786784172058 seconds ---\n",
      "--- Transpile (Trial 7): 59.684072971343994 seconds ---\n",
      "--- Transpile (Trial 8): 68.54936718940735 seconds ---\n",
      "--- Transpile (Trial 9): 77.77153897285461 seconds ---\n",
      "--- Transpile (Trial 10): 86.64859008789062 seconds ---\n",
      "--- Transpile (10): 86.65311598777771 seconds ---\n",
      "--- Total: 86.82579708099365 seconds ---\n",
      "--- 16.58492776758497 circuits per second ---\n"
     ]
    }
   ],
   "source": [
    "#####################\n",
    "# Run this to generate new circuit collection\n",
    "#####################\n",
    "filename = \"./data/4_qubits_2_depth_10_trials.p\" # file to save circuit collection to\n",
    "\n",
    "# start timer\n",
    "start_time = time.time()\n",
    "\n",
    "# Initialize a 4 qubit circuit\n",
    "n = 4\n",
    "depth = 2\n",
    "trials = 10\n",
    "gates = [(0, 1), (1, 2), (2, 3), (0, 2), (1, 3), (0, 3)] # full gateset of cnots\n",
    "\n",
    "# circuit collection\n",
    "circol = cc(gates, n, depth)\n",
    "\n",
    "# generate all children\n",
    "circol.generate_circuits()\n",
    "\n",
    "# build all circuits\n",
    "circol.build_circuits()\n",
    "\n",
    "# transpile all circuits\n",
    "circol.transpile_circuits(n = 20, trials = trials, coupling_map = CouplingMap.from_line(n), optimization_level=1)\n",
    "\n",
    "# print run time\n",
    "print(\"--- Total: %s seconds ---\" % (time.time() - start_time))\n",
    "\n",
    "# print circuits per second\n",
    "print(\"--- %s circuits per second ---\" % (circol.num_circuits() * trials/(time.time() - start_time)))\n",
    "\n",
    "pickle.dump(circol, open(filename, \"wb\"))"
   ]
  },
  {
   "cell_type": "code",
   "execution_count": 4,
   "metadata": {},
   "outputs": [
    {
     "name": "stdout",
     "output_type": "stream",
     "text": [
      "Circuit Collection Paramters:\n",
      "n = 4\n",
      "depth = 2\n"
     ]
    }
   ],
   "source": [
    "#####################\n",
    "# Run this to load a previously generated circuit collection\n",
    "#####################\n",
    "filename = \"./data/4_qubits_2_depth_10_trials.p\" # file to load circuit collection \n",
    "\n",
    "# load circuit collection\n",
    "circol = pickle.load(open(filename, \"rb\"))\n",
    "\n",
    "# retrieve parameters\n",
    "n = circol.num_qubits\n",
    "depth = circol.depth\n",
    "\n",
    "# print parameters\n",
    "print(\"Circuit Collection Paramters:\")\n",
    "print(\"n = \" + str(n))\n",
    "print(\"depth = \" + str(depth))"
   ]
  },
  {
   "cell_type": "markdown",
   "metadata": {},
   "source": [
    "#### Computing Best Cuts"
   ]
  },
  {
   "cell_type": "code",
   "execution_count": 15,
   "metadata": {},
   "outputs": [
    {
     "name": "stdout",
     "output_type": "stream",
     "text": [
      "                                           \n",
      "q_0 -> 0 ──■────────────■───────────────■──\n",
      "         ┌─┴─┐        ┌─┴─┐           ┌─┴─┐\n",
      "q_1 -> 1 ┤ X ├──■───X─┤ X ├─────■───X─┤ X ├\n",
      "         └───┘┌─┴─┐ │ └───┘   ┌─┴─┐ │ └───┘\n",
      "q_2 -> 2 ─────┤ X ├─X───■───X─┤ X ├─X──────\n",
      "              └───┘   ┌─┴─┐ │ └───┘        \n",
      "q_3 -> 3 ─────────────┤ X ├─X──────────────\n",
      "                      └───┘                \n",
      "                      ┌───┐        \n",
      "q_3 -> 0 ─────────────┤ X ├─X──────\n",
      "              ┌───┐   └─┬─┘ │ ┌───┐\n",
      "q_2 -> 1 ─────┤ X ├─X───■───X─┤ X ├\n",
      "         ┌───┐└─┬─┘ │ ┌───┐   └─┬─┘\n",
      "q_1 -> 2 ┤ X ├──■───X─┤ X ├─────■──\n",
      "         └─┬─┘        └─┬─┘        \n",
      "q_0 -> 3 ──■────────────■──────────\n",
      "                                   \n",
      "Depth difference: 2\n"
     ]
    }
   ],
   "source": [
    "# Compute best cut for each circuit\n",
    "\n",
    "optimal_circuits = []\n",
    "\n",
    "for j in range(len(circol.circuits[-1])): # loop through max lenght circuits\n",
    "    ind = circol.child_indecies(len(circol.circuits) - 1, j) # compute children indecies\n",
    "    depths = [circol.q_transpiled[n1][n2].depth() for n1, n2 in ind]\n",
    "    optimal_circuits.append(ind[np.argmin(depths)]) # choose child with lowest depth\n",
    "\n",
    "# draw a random circuit with the optimal cut\n",
    "test = 8\n",
    "n1, n2 = optimal_circuits[test]\n",
    "print(circol.q_transpiled[-1][test].draw())\n",
    "print(circol.q_transpiled[n1][n2].draw())\n",
    "print(f\"Depth difference: {-circol.q_transpiled[n1][n2].depth() + circol.q_transpiled[-1][test].depth()}\")\n"
   ]
  },
  {
   "cell_type": "markdown",
   "metadata": {},
   "source": [
    "<div class = \"alert alert-danger\"> FIXME: add some statistics </div>"
   ]
  },
  {
   "cell_type": "markdown",
   "metadata": {},
   "source": [
    "#### Explanation of Actor-Critic \n",
    "* https://www.tensorflow.org/tutorials/reinforcement_learning/actor_critic\n",
    "* https://arshren.medium.com/unlocking-the-secrets-of-actor-critic-reinforcement-learning-a-beginners-guide-3c5953b13551"
   ]
  },
  {
   "cell_type": "code",
   "execution_count": 3,
   "metadata": {},
   "outputs": [
    {
     "name": "stdout",
     "output_type": "stream",
     "text": [
      "--- Convert: 0.01872420310974121 seconds ---\n"
     ]
    }
   ],
   "source": [
    "# load circuit collection\n",
    "circol = pickle.load(open(\"../qcircml_code/data/circol_test.p\", \"rb\"))\n",
    "\n",
    "# generate images\n",
    "circol.convert_to_images()\n",
    "\n",
    "circol = pickle.dump(circol, open(\"../qcircml_code/data/circol_test.p\", \"wb\"))"
   ]
  }
 ],
 "metadata": {
  "kernelspec": {
   "display_name": "qcircml",
   "language": "python",
   "name": "python3"
  },
  "language_info": {
   "codemirror_mode": {
    "name": "ipython",
    "version": 3
   },
   "file_extension": ".py",
   "mimetype": "text/x-python",
   "name": "python",
   "nbconvert_exporter": "python",
   "pygments_lexer": "ipython3",
   "version": "3.9.6"
  },
  "orig_nbformat": 4
 },
 "nbformat": 4,
 "nbformat_minor": 2
}
