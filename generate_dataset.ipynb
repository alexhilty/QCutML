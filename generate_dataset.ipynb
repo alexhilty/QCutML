{
 "cells": [
  {
   "cell_type": "code",
   "execution_count": null,
   "metadata": {},
   "outputs": [],
   "source": [
    "# Custom Imports\n",
    "from CircuitCollection import CircuitCollection as cc\n",
    "\n",
    "# Qiskit Imports\n",
    "from qiskit import *\n",
    "from qiskit.transpiler import CouplingMap\n",
    "from qiskit.tools.jupyter import *\n",
    "from qiskit.visualization import *\n",
    "\n",
    "# Other Imports\n",
    "import itertools\n",
    "import time\n",
    "import pickle\n",
    "import pandas as pd\n",
    "import numpy as np"
   ]
  },
  {
   "cell_type": "markdown",
   "metadata": {},
   "source": [
    "## Data Representation\n",
    "Other works (like [this](https://iopscience.iop.org/article/10.1088/2632-2153/ac28dd)) use an \"image\" based representation. I will use a similar one.\n",
    "* each gate will be one column of \"pixels\"\n",
    "* 1 indicates that the corresponding qubit is involved with the gate, 0 means that there are no gates on that qubit           "
   ]
  },
  {
   "cell_type": "markdown",
   "metadata": {},
   "source": [
    "#### Creating Circuit Collection"
   ]
  },
  {
   "cell_type": "code",
   "execution_count": null,
   "metadata": {},
   "outputs": [],
   "source": [
    "#####################\n",
    "# Run this to generate new circuit collection\n",
    "#####################\n",
    "filename = \"./data/4_qubits_2_depth_10_trials.p\" # file to save circuit collection to\n",
    "\n",
    "# start timer\n",
    "start_time = time.time()\n",
    "\n",
    "# Initialize a 4 qubit circuit\n",
    "n = 4\n",
    "depth = 2\n",
    "trials = 10\n",
    "gates = [(0, 1), (1, 2), (2, 3), (0, 2), (1, 3), (0, 3)] # full gateset of cnots\n",
    "\n",
    "# circuit collection\n",
    "circol = cc(gates, n, depth)\n",
    "\n",
    "# generate all children\n",
    "circol.generate_circuits()\n",
    "\n",
    "# build all circuits\n",
    "circol.build_circuits()\n",
    "\n",
    "# transpile all circuits\n",
    "circol.transpile_circuits(n = 20, trials = trials, coupling_map = CouplingMap.from_line(n), optimization_level=1)\n",
    "\n",
    "# print run time\n",
    "print(\"--- Total: %s seconds ---\" % (time.time() - start_time))\n",
    "\n",
    "# print circuits per second\n",
    "print(\"--- %s circuits per second ---\" % (circol.num_circuits() * trials/(time.time() - start_time)))\n",
    "\n",
    "pickle.dump(circol, open(filename, \"wb\"))"
   ]
  },
  {
   "cell_type": "code",
   "execution_count": null,
   "metadata": {},
   "outputs": [],
   "source": [
    "#####################\n",
    "# Run this to load a previously generated circuit collection\n",
    "#####################\n",
    "filename = \"./data/4_qubits_2_depth_10_trials.p\" # file to load circuit collection \n",
    "\n",
    "# load circuit collection\n",
    "circol = pickle.load(open(filename, \"rb\"))\n",
    "\n",
    "# retrieve parameters\n",
    "n = circol.num_qubits\n",
    "depth = circol.depth\n",
    "\n",
    "# print parameters\n",
    "print(\"Circuit Collection Paramters:\")\n",
    "print(\"n = \" + str(n))\n",
    "print(\"depth = \" + str(depth))"
   ]
  },
  {
   "cell_type": "markdown",
   "metadata": {},
   "source": [
    "#### Computing Best Cuts"
   ]
  },
  {
   "cell_type": "code",
   "execution_count": null,
   "metadata": {},
   "outputs": [],
   "source": [
    "# Compute best cut for each circuit\n",
    "\n",
    "optimal_circuits = []\n",
    "\n",
    "for j in range(len(circol.circuits[-1])): # loop through max lenght circuits\n",
    "    ind = circol.child_indecies(len(circol.circuits) - 1, j) # compute children indecies\n",
    "    depths = [circol.q_transpiled[n1][n2].depth() for n1, n2 in ind]\n",
    "    optimal_circuits.append(ind[np.argmin(depths)]) # choose child with lowest depth\n",
    "\n",
    "# draw a random circuit with the optimal cut\n",
    "test = 8\n",
    "n1, n2 = optimal_circuits[test]\n",
    "print(circol.q_transpiled[-1][test].draw())\n",
    "print(circol.q_transpiled[n1][n2].draw())\n",
    "print(f\"Depth difference: {-circol.q_transpiled[n1][n2].depth() + circol.q_transpiled[-1][test].depth()}\")\n"
   ]
  },
  {
   "cell_type": "markdown",
   "metadata": {},
   "source": [
    "<div class = \"alert alert-danger\"> FIXME: add some statistics </div>"
   ]
  },
  {
   "cell_type": "markdown",
   "metadata": {},
   "source": [
    "<div class = \"alert alert-danger\"> FIXME: https://ekamperi.github.io/machine%20learning/2021/01/13/python-decorators-and-tf-function.html </div>\n",
    "\n"
   ]
  },
  {
   "cell_type": "markdown",
   "metadata": {},
   "source": [
    "#### Explanation of Actor-Critic \n",
    "* https://www.tensorflow.org/tutorials/reinforcement_learning/actor_critic\n",
    "* https://arshren.medium.com/unlocking-the-secrets-of-actor-critic-reinforcement-learning-a-beginners-guide-3c5953b13551"
   ]
  },
  {
   "cell_type": "code",
   "execution_count": null,
   "metadata": {},
   "outputs": [],
   "source": [
    "# load circuit collection\n",
    "circol = pickle.load(open(\"../qcircml_code/data/circol_test.p\", \"rb\"))\n",
    "\n",
    "# generate images\n",
    "circol.convert_to_images()\n",
    "\n",
    "circol = pickle.dump(circol, open(\"../qcircml_code/data/circol_test.p\", \"wb\"))"
   ]
  },
  {
   "cell_type": "markdown",
   "metadata": {},
   "source": [
    "For some reason adding the tf.function decorator causes the model to not converge (does no better than random)\n",
    "* this is likely due to the face that the tf.function generator compiles the code into a graph which does not allow for the random number generator to be used properly\n",
    "* it could also be due to some parameters not changing properly during training"
   ]
  },
  {
   "cell_type": "code",
   "execution_count": null,
   "metadata": {},
   "outputs": [],
   "source": [
    "%load_ext tensorboard\n",
    "%tensorboard --logdir ../qcircml_code/logs/ --host=127.0.0.1"
   ]
  }
 ],
 "metadata": {
  "kernelspec": {
   "display_name": "qcircml",
   "language": "python",
   "name": "python3"
  },
  "language_info": {
   "codemirror_mode": {
    "name": "ipython",
    "version": 3
   },
   "file_extension": ".py",
   "mimetype": "text/x-python",
   "name": "python",
   "nbconvert_exporter": "python",
   "pygments_lexer": "ipython3",
   "version": "3.9.6"
  },
  "orig_nbformat": 4
 },
 "nbformat": 4,
 "nbformat_minor": 2
}
